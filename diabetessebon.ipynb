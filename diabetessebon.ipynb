{
 "cells": [
  {
   "cell_type": "code",
   "execution_count": 2,
   "metadata": {},
   "outputs": [],
   "source": [
    "import pandas as pd\n",
    "import numpy as np\n",
    "from sklearn import datasets, linear_model\n",
    "import matplotlib.pyplot as plt\n"
   ]
  },
  {
   "cell_type": "code",
   "execution_count": 3,
   "metadata": {},
   "outputs": [],
   "source": [
    "diabetes = datasets.load_diabetes()"
   ]
  },
  {
   "cell_type": "code",
   "execution_count": 4,
   "metadata": {},
   "outputs": [
    {
     "data": {
      "text/plain": [
       "'.. _diabetes_dataset:\\n\\nDiabetes dataset\\n----------------\\n\\nTen baseline variables, age, sex, body mass index, average blood\\npressure, and six blood serum measurements were obtained for each of n =\\n442 diabetes patients, as well as the response of interest, a\\nquantitative measure of disease progression one year after baseline.\\n\\n**Data Set Characteristics:**\\n\\n  :Number of Instances: 442\\n\\n  :Number of Attributes: First 10 columns are numeric predictive values\\n\\n  :Target: Column 11 is a quantitative measure of disease progression one year after baseline\\n\\n  :Attribute Information:\\n      - age     age in years\\n      - sex\\n      - bmi     body mass index\\n      - bp      average blood pressure\\n      - s1      tc, T-Cells (a type of white blood cells)\\n      - s2      ldl, low-density lipoproteins\\n      - s3      hdl, high-density lipoproteins\\n      - s4      tch, thyroid stimulating hormone\\n      - s5      ltg, lamotrigine\\n      - s6      glu, blood sugar level\\n\\nNote: Each of these 10 feature variables have been mean centered and scaled by the standard deviation times `n_samples` (i.e. the sum of squares of each column totals 1).\\n\\nSource URL:\\nhttps://www4.stat.ncsu.edu/~boos/var.select/diabetes.html\\n\\nFor more information see:\\nBradley Efron, Trevor Hastie, Iain Johnstone and Robert Tibshirani (2004) \"Least Angle Regression,\" Annals of Statistics (with discussion), 407-499.\\n(https://web.stanford.edu/~hastie/Papers/LARS/LeastAngle_2002.pdf)'"
      ]
     },
     "execution_count": 4,
     "metadata": {},
     "output_type": "execute_result"
    }
   ],
   "source": [
    "diabetes.DESCR"
   ]
  },
  {
   "cell_type": "code",
   "execution_count": 80,
   "metadata": {},
   "outputs": [
    {
     "data": {
      "text/plain": [
       "(442,)"
      ]
     },
     "execution_count": 80,
     "metadata": {},
     "output_type": "execute_result"
    }
   ],
   "source": [
    "diabetes.target.shape"
   ]
  },
  {
   "cell_type": "code",
   "execution_count": null,
   "metadata": {},
   "outputs": [],
   "source": []
  },
  {
   "cell_type": "code",
   "execution_count": null,
   "metadata": {},
   "outputs": [],
   "source": []
  },
  {
   "cell_type": "code",
   "execution_count": 5,
   "metadata": {},
   "outputs": [
    {
     "data": {
      "text/plain": [
       "array([[ 0.03807591,  0.05068012,  0.06169621, ..., -0.00259226,\n",
       "         0.01990842, -0.01764613],\n",
       "       [-0.00188202, -0.04464164, -0.05147406, ..., -0.03949338,\n",
       "        -0.06832974, -0.09220405],\n",
       "       [ 0.08529891,  0.05068012,  0.04445121, ..., -0.00259226,\n",
       "         0.00286377, -0.02593034],\n",
       "       ...,\n",
       "       [ 0.04170844,  0.05068012, -0.01590626, ..., -0.01107952,\n",
       "        -0.04687948,  0.01549073],\n",
       "       [-0.04547248, -0.04464164,  0.03906215, ...,  0.02655962,\n",
       "         0.04452837, -0.02593034],\n",
       "       [-0.04547248, -0.04464164, -0.0730303 , ..., -0.03949338,\n",
       "        -0.00421986,  0.00306441]])"
      ]
     },
     "execution_count": 5,
     "metadata": {},
     "output_type": "execute_result"
    }
   ],
   "source": [
    "diabetes.data"
   ]
  },
  {
   "cell_type": "code",
   "execution_count": 64,
   "metadata": {},
   "outputs": [],
   "source": [
    "##diabetes.keys()"
   ]
  },
  {
   "cell_type": "code",
   "execution_count": 65,
   "metadata": {},
   "outputs": [],
   "source": [
    "##diabetes.feature_names"
   ]
  },
  {
   "cell_type": "code",
   "execution_count": 81,
   "metadata": {},
   "outputs": [],
   "source": [
    "# diabetes_x = diabetes.data[:,np.newaxis,2]\n",
    "diabetes_x = diabetes.data"
   ]
  },
  {
   "cell_type": "code",
   "execution_count": 82,
   "metadata": {},
   "outputs": [
    {
     "data": {
      "text/plain": [
       "(442, 10)"
      ]
     },
     "execution_count": 82,
     "metadata": {},
     "output_type": "execute_result"
    }
   ],
   "source": [
    "diabetes_x.shape"
   ]
  },
  {
   "cell_type": "code",
   "execution_count": null,
   "metadata": {},
   "outputs": [],
   "source": []
  },
  {
   "cell_type": "code",
   "execution_count": 83,
   "metadata": {
    "scrolled": false
   },
   "outputs": [
    {
     "data": {
      "text/plain": [
       "(412, 10)"
      ]
     },
     "execution_count": 83,
     "metadata": {},
     "output_type": "execute_result"
    }
   ],
   "source": [
    "diabetes_x_train = diabetes_x[:-30]\n",
    "diabetes_x_train.shape"
   ]
  },
  {
   "cell_type": "code",
   "execution_count": 84,
   "metadata": {},
   "outputs": [],
   "source": [
    "diabetes_x_test = diabetes_x[-30:]"
   ]
  },
  {
   "cell_type": "code",
   "execution_count": 85,
   "metadata": {},
   "outputs": [
    {
     "data": {
      "text/plain": [
       "array([[ 7.44012909e-02, -4.46416365e-02,  8.54080721e-02,\n",
       "         6.31868033e-02,  1.49424745e-02,  1.30909518e-02,\n",
       "         1.55053592e-02, -2.59226200e-03,  6.20931562e-03,\n",
       "         8.59065477e-02],\n",
       "       [-5.27375548e-02, -4.46416365e-02, -8.16893766e-04,\n",
       "        -2.63278347e-02,  1.08146159e-02,  7.14113104e-03,\n",
       "         4.86400995e-02, -3.94933829e-02, -3.58167281e-02,\n",
       "         1.96328371e-02],\n",
       "       [ 8.16663678e-02,  5.06801187e-02,  6.72779075e-03,\n",
       "        -4.52298700e-03,  1.09883222e-01,  1.17056241e-01,\n",
       "        -3.23559322e-02,  9.18746074e-02,  5.47240033e-02,\n",
       "         7.20651633e-03],\n",
       "       [-5.51455498e-03, -4.46416365e-02,  8.88341490e-03,\n",
       "        -5.04279296e-02,  2.59500973e-02,  4.72241342e-02,\n",
       "        -4.34008457e-02,  7.12099798e-02,  1.48227108e-02,\n",
       "         3.06440941e-03],\n",
       "       [-2.73097857e-02, -4.46416365e-02,  8.00190118e-02,\n",
       "         9.87631337e-02, -2.94491268e-03,  1.81013272e-02,\n",
       "        -1.76293810e-02,  3.31191734e-03, -2.95276227e-02,\n",
       "         3.62012647e-02],\n",
       "       [-5.27375548e-02, -4.46416365e-02,  7.13965152e-02,\n",
       "        -7.45280244e-02, -1.53284884e-02, -1.31387743e-03,\n",
       "         4.46044580e-03, -2.14118336e-02, -4.68794828e-02,\n",
       "         3.06440941e-03],\n",
       "       [ 9.01559883e-03, -4.46416365e-02, -2.45287594e-02,\n",
       "        -2.63278347e-02,  9.88755988e-02,  9.41964034e-02,\n",
       "         7.07299263e-02, -2.59226200e-03, -2.13936809e-02,\n",
       "         7.20651633e-03],\n",
       "       [-2.00447088e-02, -4.46416365e-02, -5.47074975e-02,\n",
       "        -5.38708003e-02, -6.62387442e-02, -5.73674521e-02,\n",
       "         1.18237214e-02, -3.94933829e-02, -7.40888715e-02,\n",
       "        -5.21980442e-03],\n",
       "       [ 2.35457526e-02, -4.46416365e-02, -3.63846922e-02,\n",
       "         6.75072794e-05,  1.18294590e-03,  3.46981957e-02,\n",
       "        -4.34008457e-02,  3.43088589e-02, -3.32487872e-02,\n",
       "         6.10539062e-02],\n",
       "       [ 3.80759064e-02,  5.06801187e-02,  1.64280994e-02,\n",
       "         2.18723550e-02,  3.97096259e-02,  4.50320949e-02,\n",
       "        -4.34008457e-02,  7.12099798e-02,  4.97686599e-02,\n",
       "         1.54907302e-02],\n",
       "       [-7.81653240e-02,  5.06801187e-02,  7.78633876e-02,\n",
       "         5.28581912e-02,  7.82363060e-02,  6.44472995e-02,\n",
       "         2.65502726e-02, -2.59226200e-03,  4.06722637e-02,\n",
       "        -9.36191133e-03],\n",
       "       [ 9.01559883e-03,  5.06801187e-02, -3.96181284e-02,\n",
       "         2.87580964e-02,  3.83336731e-02,  7.35286049e-02,\n",
       "        -7.28539481e-02,  1.08111101e-01,  1.55668445e-02,\n",
       "        -4.66408736e-02],\n",
       "       [ 1.75052192e-03,  5.06801187e-02,  1.10390390e-02,\n",
       "        -1.94420933e-02, -1.67044413e-02, -3.81906512e-03,\n",
       "        -4.70824835e-02,  3.43088589e-02,  2.40525832e-02,\n",
       "         2.37749440e-02],\n",
       "       [-7.81653240e-02, -4.46416365e-02, -4.06959405e-02,\n",
       "        -8.14137658e-02, -1.00637566e-01, -1.12794730e-01,\n",
       "         2.28686348e-02, -7.63945038e-02, -2.02887478e-02,\n",
       "        -5.07829805e-02],\n",
       "       [ 3.08108295e-02,  5.06801187e-02, -3.42290681e-02,\n",
       "         4.36772026e-02,  5.75970131e-02,  6.88313780e-02,\n",
       "        -3.23559322e-02,  5.75565650e-02,  3.54619387e-02,\n",
       "         8.59065477e-02],\n",
       "       [-3.45748626e-02,  5.06801187e-02,  5.64997868e-03,\n",
       "        -5.67061055e-03, -7.31185084e-02, -6.26909759e-02,\n",
       "        -6.58446761e-03, -3.94933829e-02, -4.54209578e-02,\n",
       "         3.20591578e-02],\n",
       "       [ 4.89735218e-02,  5.06801187e-02,  8.86415084e-02,\n",
       "         8.72868982e-02,  3.55817674e-02,  2.15459603e-02,\n",
       "        -2.49926566e-02,  3.43088589e-02,  6.60482062e-02,\n",
       "         1.31469724e-01],\n",
       "       [-4.18399395e-02, -4.46416365e-02, -3.31512560e-02,\n",
       "        -2.28849640e-02,  4.65893902e-02,  4.15874618e-02,\n",
       "         5.60033751e-02, -2.47329345e-02, -2.59524244e-02,\n",
       "        -3.83566597e-02],\n",
       "       [-9.14709343e-03, -4.46416365e-02, -5.68631216e-02,\n",
       "        -5.04279296e-02,  2.18222388e-02,  4.53452434e-02,\n",
       "        -2.86742944e-02,  3.43088589e-02, -9.91895736e-03,\n",
       "        -1.76461252e-02],\n",
       "       [ 7.07687525e-02,  5.06801187e-02, -3.09956318e-02,\n",
       "         2.18723550e-02, -3.73437341e-02, -4.70335528e-02,\n",
       "         3.39135482e-02, -3.94933829e-02, -1.49564750e-02,\n",
       "        -1.07769750e-03],\n",
       "       [ 9.01559883e-03, -4.46416365e-02,  5.52293341e-02,\n",
       "        -5.67061055e-03,  5.75970131e-02,  4.47189465e-02,\n",
       "        -2.90282981e-03,  2.32385226e-02,  5.56835477e-02,\n",
       "         1.06617082e-01],\n",
       "       [-2.73097857e-02, -4.46416365e-02, -6.00965578e-02,\n",
       "        -2.97707054e-02,  4.65893902e-02,  1.99802180e-02,\n",
       "         1.22272856e-01, -3.94933829e-02, -5.14005353e-02,\n",
       "        -9.36191133e-03],\n",
       "       [ 1.62806757e-02, -4.46416365e-02,  1.33873038e-03,\n",
       "         8.10087222e-03,  5.31080447e-03,  1.08989126e-02,\n",
       "         3.02319104e-02, -3.94933829e-02, -4.54209578e-02,\n",
       "         3.20591578e-02],\n",
       "       [-1.27796319e-02, -4.46416365e-02, -2.34509473e-02,\n",
       "        -4.00993175e-02, -1.67044413e-02,  4.63594335e-03,\n",
       "        -1.76293810e-02, -2.59226200e-03, -3.84591123e-02,\n",
       "        -3.83566597e-02],\n",
       "       [-5.63700933e-02, -4.46416365e-02, -7.41081148e-02,\n",
       "        -5.04279296e-02, -2.49601584e-02, -4.70335528e-02,\n",
       "         9.28197531e-02, -7.63945038e-02, -6.11765951e-02,\n",
       "        -4.66408736e-02],\n",
       "       [ 4.17084449e-02,  5.06801187e-02,  1.96615356e-02,\n",
       "         5.97439326e-02, -5.69681839e-03, -2.56647127e-03,\n",
       "        -2.86742944e-02, -2.59226200e-03,  3.11929907e-02,\n",
       "         7.20651633e-03],\n",
       "       [-5.51455498e-03,  5.06801187e-02, -1.59062628e-02,\n",
       "        -6.76422830e-02,  4.93412959e-02,  7.91652773e-02,\n",
       "        -2.86742944e-02,  3.43088589e-02, -1.81182673e-02,\n",
       "         4.44854786e-02],\n",
       "       [ 4.17084449e-02,  5.06801187e-02, -1.59062628e-02,\n",
       "         1.72818607e-02, -3.73437341e-02, -1.38398159e-02,\n",
       "        -2.49926566e-02, -1.10795198e-02, -4.68794828e-02,\n",
       "         1.54907302e-02],\n",
       "       [-4.54724779e-02, -4.46416365e-02,  3.90621530e-02,\n",
       "         1.21513083e-03,  1.63184273e-02,  1.52829910e-02,\n",
       "        -2.86742944e-02,  2.65596235e-02,  4.45283740e-02,\n",
       "        -2.59303390e-02],\n",
       "       [-4.54724779e-02, -4.46416365e-02, -7.30303027e-02,\n",
       "        -8.14137658e-02,  8.37401174e-02,  2.78089295e-02,\n",
       "         1.73815785e-01, -3.94933829e-02, -4.21985971e-03,\n",
       "         3.06440941e-03]])"
      ]
     },
     "execution_count": 85,
     "metadata": {},
     "output_type": "execute_result"
    }
   ],
   "source": [
    "diabetes_x_test"
   ]
  },
  {
   "cell_type": "code",
   "execution_count": 86,
   "metadata": {},
   "outputs": [],
   "source": [
    "diabetes_y_train = diabetes.target[:-30]"
   ]
  },
  {
   "cell_type": "code",
   "execution_count": 87,
   "metadata": {},
   "outputs": [
    {
     "data": {
      "text/plain": [
       "(412,)"
      ]
     },
     "execution_count": 87,
     "metadata": {},
     "output_type": "execute_result"
    }
   ],
   "source": [
    "diabetes_y_train.shape"
   ]
  },
  {
   "cell_type": "code",
   "execution_count": 88,
   "metadata": {},
   "outputs": [],
   "source": [
    "diabetes_y_test = diabetes.target[-30:]"
   ]
  },
  {
   "cell_type": "code",
   "execution_count": 89,
   "metadata": {},
   "outputs": [
    {
     "data": {
      "text/plain": [
       "(30,)"
      ]
     },
     "execution_count": 89,
     "metadata": {},
     "output_type": "execute_result"
    }
   ],
   "source": [
    "diabetes_y_test.shape"
   ]
  },
  {
   "cell_type": "code",
   "execution_count": 90,
   "metadata": {},
   "outputs": [],
   "source": [
    "model = linear_model.LinearRegression()"
   ]
  },
  {
   "cell_type": "code",
   "execution_count": 91,
   "metadata": {},
   "outputs": [
    {
     "data": {
      "text/plain": [
       "LinearRegression()"
      ]
     },
     "execution_count": 91,
     "metadata": {},
     "output_type": "execute_result"
    }
   ],
   "source": [
    "model.fit(diabetes_x_train, diabetes_y_train)"
   ]
  },
  {
   "cell_type": "code",
   "execution_count": 108,
   "metadata": {},
   "outputs": [
    {
     "data": {
      "text/plain": [
       "array([234.04069476, 122.92246614, 166.35433115, 174.39222892,\n",
       "       226.94851442, 151.82190227, 100.94358512,  83.08956073,\n",
       "       143.1298667 , 192.67823683, 197.98434449, 154.37965196,\n",
       "       173.16544327, 112.38886823, 164.20528828, 131.63666326,\n",
       "       258.66439447, 101.4126313 , 117.87101994, 123.5370635 ,\n",
       "       219.5123662 ,  62.09123359, 133.09435929, 121.33048447,\n",
       "        53.51502538, 193.125764  , 104.69007361, 123.68983031,\n",
       "       211.27336049,  53.87045485])"
      ]
     },
     "execution_count": 108,
     "metadata": {},
     "output_type": "execute_result"
    }
   ],
   "source": [
    "y = model.predict(diabetes_x_test)\n",
    "\n",
    "# y = model.predict([[2,3,4,5,6,1,1,1,1,1]])\n",
    "y"
   ]
  },
  {
   "cell_type": "code",
   "execution_count": 93,
   "metadata": {},
   "outputs": [],
   "source": [
    "from sklearn.metrics import mean_squared_error"
   ]
  },
  {
   "cell_type": "code",
   "execution_count": 94,
   "metadata": {},
   "outputs": [
    {
     "data": {
      "text/plain": [
       "1826.5364191345434"
      ]
     },
     "execution_count": 94,
     "metadata": {},
     "output_type": "execute_result"
    }
   ],
   "source": [
    "mean_squared_error(diabetes_y_test, y)"
   ]
  },
  {
   "cell_type": "code",
   "execution_count": 95,
   "metadata": {},
   "outputs": [
    {
     "data": {
      "text/plain": [
       "array([  -1.16924976, -237.18461486,  518.30606657,  309.04865826,\n",
       "       -763.14121622,  458.90999325,   80.62441437,  174.32183366,\n",
       "        721.49712065,   79.19307944])"
      ]
     },
     "execution_count": 95,
     "metadata": {},
     "output_type": "execute_result"
    }
   ],
   "source": [
    "model.coef_"
   ]
  },
  {
   "cell_type": "code",
   "execution_count": 96,
   "metadata": {},
   "outputs": [
    {
     "data": {
      "text/plain": [
       "153.05827988224112"
      ]
     },
     "execution_count": 96,
     "metadata": {},
     "output_type": "execute_result"
    }
   ],
   "source": [
    "model.intercept_"
   ]
  },
  {
   "cell_type": "code",
   "execution_count": 97,
   "metadata": {},
   "outputs": [],
   "source": [
    "import matplotlib.pyplot as plt "
   ]
  },
  {
   "cell_type": "code",
   "execution_count": 99,
   "metadata": {},
   "outputs": [],
   "source": [
    "# plt.scatter(diabetes_x_test, diabetes_y_test)\n",
    "# plt.plot(diabetes_x_test, y)"
   ]
  },
  {
   "cell_type": "code",
   "execution_count": null,
   "metadata": {},
   "outputs": [],
   "source": []
  },
  {
   "cell_type": "code",
   "execution_count": null,
   "metadata": {},
   "outputs": [],
   "source": []
  },
  {
   "cell_type": "code",
   "execution_count": 101,
   "metadata": {},
   "outputs": [
    {
     "ename": "ValueError",
     "evalue": "Expected 2D array, got 1D array instead:\narray=[1].\nReshape your data either using array.reshape(-1, 1) if your data has a single feature or array.reshape(1, -1) if it contains a single sample.",
     "output_type": "error",
     "traceback": [
      "\u001b[1;31m---------------------------------------------------------------------------\u001b[0m",
      "\u001b[1;31mValueError\u001b[0m                                Traceback (most recent call last)",
      "\u001b[1;32m<ipython-input-101-71273f74746d>\u001b[0m in \u001b[0;36m<module>\u001b[1;34m\u001b[0m\n\u001b[1;32m----> 1\u001b[1;33m \u001b[0mmodel\u001b[0m\u001b[1;33m.\u001b[0m\u001b[0mpredict\u001b[0m\u001b[1;33m(\u001b[0m\u001b[1;33m[\u001b[0m\u001b[1;36m1\u001b[0m\u001b[1;33m]\u001b[0m\u001b[1;33m)\u001b[0m\u001b[1;33m\u001b[0m\u001b[1;33m\u001b[0m\u001b[0m\n\u001b[0m",
      "\u001b[1;32mD:\\stdy\\datasc\\lib\\site-packages\\sklearn\\linear_model\\_base.py\u001b[0m in \u001b[0;36mpredict\u001b[1;34m(self, X)\u001b[0m\n\u001b[0;32m    234\u001b[0m             \u001b[0mReturns\u001b[0m \u001b[0mpredicted\u001b[0m \u001b[0mvalues\u001b[0m\u001b[1;33m.\u001b[0m\u001b[1;33m\u001b[0m\u001b[1;33m\u001b[0m\u001b[0m\n\u001b[0;32m    235\u001b[0m         \"\"\"\n\u001b[1;32m--> 236\u001b[1;33m         \u001b[1;32mreturn\u001b[0m \u001b[0mself\u001b[0m\u001b[1;33m.\u001b[0m\u001b[0m_decision_function\u001b[0m\u001b[1;33m(\u001b[0m\u001b[0mX\u001b[0m\u001b[1;33m)\u001b[0m\u001b[1;33m\u001b[0m\u001b[1;33m\u001b[0m\u001b[0m\n\u001b[0m\u001b[0;32m    237\u001b[0m \u001b[1;33m\u001b[0m\u001b[0m\n\u001b[0;32m    238\u001b[0m     \u001b[0m_preprocess_data\u001b[0m \u001b[1;33m=\u001b[0m \u001b[0mstaticmethod\u001b[0m\u001b[1;33m(\u001b[0m\u001b[0m_preprocess_data\u001b[0m\u001b[1;33m)\u001b[0m\u001b[1;33m\u001b[0m\u001b[1;33m\u001b[0m\u001b[0m\n",
      "\u001b[1;32mD:\\stdy\\datasc\\lib\\site-packages\\sklearn\\linear_model\\_base.py\u001b[0m in \u001b[0;36m_decision_function\u001b[1;34m(self, X)\u001b[0m\n\u001b[0;32m    216\u001b[0m         \u001b[0mcheck_is_fitted\u001b[0m\u001b[1;33m(\u001b[0m\u001b[0mself\u001b[0m\u001b[1;33m)\u001b[0m\u001b[1;33m\u001b[0m\u001b[1;33m\u001b[0m\u001b[0m\n\u001b[0;32m    217\u001b[0m \u001b[1;33m\u001b[0m\u001b[0m\n\u001b[1;32m--> 218\u001b[1;33m         \u001b[0mX\u001b[0m \u001b[1;33m=\u001b[0m \u001b[0mcheck_array\u001b[0m\u001b[1;33m(\u001b[0m\u001b[0mX\u001b[0m\u001b[1;33m,\u001b[0m \u001b[0maccept_sparse\u001b[0m\u001b[1;33m=\u001b[0m\u001b[1;33m[\u001b[0m\u001b[1;34m'csr'\u001b[0m\u001b[1;33m,\u001b[0m \u001b[1;34m'csc'\u001b[0m\u001b[1;33m,\u001b[0m \u001b[1;34m'coo'\u001b[0m\u001b[1;33m]\u001b[0m\u001b[1;33m)\u001b[0m\u001b[1;33m\u001b[0m\u001b[1;33m\u001b[0m\u001b[0m\n\u001b[0m\u001b[0;32m    219\u001b[0m         return safe_sparse_dot(X, self.coef_.T,\n\u001b[0;32m    220\u001b[0m                                dense_output=True) + self.intercept_\n",
      "\u001b[1;32mD:\\stdy\\datasc\\lib\\site-packages\\sklearn\\utils\\validation.py\u001b[0m in \u001b[0;36minner_f\u001b[1;34m(*args, **kwargs)\u001b[0m\n\u001b[0;32m     70\u001b[0m                           FutureWarning)\n\u001b[0;32m     71\u001b[0m         \u001b[0mkwargs\u001b[0m\u001b[1;33m.\u001b[0m\u001b[0mupdate\u001b[0m\u001b[1;33m(\u001b[0m\u001b[1;33m{\u001b[0m\u001b[0mk\u001b[0m\u001b[1;33m:\u001b[0m \u001b[0marg\u001b[0m \u001b[1;32mfor\u001b[0m \u001b[0mk\u001b[0m\u001b[1;33m,\u001b[0m \u001b[0marg\u001b[0m \u001b[1;32min\u001b[0m \u001b[0mzip\u001b[0m\u001b[1;33m(\u001b[0m\u001b[0msig\u001b[0m\u001b[1;33m.\u001b[0m\u001b[0mparameters\u001b[0m\u001b[1;33m,\u001b[0m \u001b[0margs\u001b[0m\u001b[1;33m)\u001b[0m\u001b[1;33m}\u001b[0m\u001b[1;33m)\u001b[0m\u001b[1;33m\u001b[0m\u001b[1;33m\u001b[0m\u001b[0m\n\u001b[1;32m---> 72\u001b[1;33m         \u001b[1;32mreturn\u001b[0m \u001b[0mf\u001b[0m\u001b[1;33m(\u001b[0m\u001b[1;33m**\u001b[0m\u001b[0mkwargs\u001b[0m\u001b[1;33m)\u001b[0m\u001b[1;33m\u001b[0m\u001b[1;33m\u001b[0m\u001b[0m\n\u001b[0m\u001b[0;32m     73\u001b[0m     \u001b[1;32mreturn\u001b[0m \u001b[0minner_f\u001b[0m\u001b[1;33m\u001b[0m\u001b[1;33m\u001b[0m\u001b[0m\n\u001b[0;32m     74\u001b[0m \u001b[1;33m\u001b[0m\u001b[0m\n",
      "\u001b[1;32mD:\\stdy\\datasc\\lib\\site-packages\\sklearn\\utils\\validation.py\u001b[0m in \u001b[0;36mcheck_array\u001b[1;34m(array, accept_sparse, accept_large_sparse, dtype, order, copy, force_all_finite, ensure_2d, allow_nd, ensure_min_samples, ensure_min_features, estimator)\u001b[0m\n\u001b[0;32m    617\u001b[0m             \u001b[1;31m# If input is 1D raise error\u001b[0m\u001b[1;33m\u001b[0m\u001b[1;33m\u001b[0m\u001b[1;33m\u001b[0m\u001b[0m\n\u001b[0;32m    618\u001b[0m             \u001b[1;32mif\u001b[0m \u001b[0marray\u001b[0m\u001b[1;33m.\u001b[0m\u001b[0mndim\u001b[0m \u001b[1;33m==\u001b[0m \u001b[1;36m1\u001b[0m\u001b[1;33m:\u001b[0m\u001b[1;33m\u001b[0m\u001b[1;33m\u001b[0m\u001b[0m\n\u001b[1;32m--> 619\u001b[1;33m                 raise ValueError(\n\u001b[0m\u001b[0;32m    620\u001b[0m                     \u001b[1;34m\"Expected 2D array, got 1D array instead:\\narray={}.\\n\"\u001b[0m\u001b[1;33m\u001b[0m\u001b[1;33m\u001b[0m\u001b[0m\n\u001b[0;32m    621\u001b[0m                     \u001b[1;34m\"Reshape your data either using array.reshape(-1, 1) if \"\u001b[0m\u001b[1;33m\u001b[0m\u001b[1;33m\u001b[0m\u001b[0m\n",
      "\u001b[1;31mValueError\u001b[0m: Expected 2D array, got 1D array instead:\narray=[1].\nReshape your data either using array.reshape(-1, 1) if your data has a single feature or array.reshape(1, -1) if it contains a single sample."
     ]
    }
   ],
   "source": []
  },
  {
   "cell_type": "code",
   "execution_count": null,
   "metadata": {},
   "outputs": [],
   "source": []
  },
  {
   "cell_type": "code",
   "execution_count": null,
   "metadata": {},
   "outputs": [],
   "source": []
  }
 ],
 "metadata": {
  "kernelspec": {
   "display_name": "Python 3",
   "language": "python",
   "name": "python3"
  },
  "language_info": {
   "codemirror_mode": {
    "name": "ipython",
    "version": 3
   },
   "file_extension": ".py",
   "mimetype": "text/x-python",
   "name": "python",
   "nbconvert_exporter": "python",
   "pygments_lexer": "ipython3",
   "version": "3.8.5"
  }
 },
 "nbformat": 4,
 "nbformat_minor": 4
}
