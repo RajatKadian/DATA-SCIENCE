{
 "cells": [
  {
   "cell_type": "code",
   "execution_count": 1,
   "metadata": {},
   "outputs": [],
   "source": [
    "import numpy\n",
    "import pandas as pd\n",
    "\n"
   ]
  },
  {
   "cell_type": "code",
   "execution_count": 75,
   "metadata": {},
   "outputs": [
    {
     "data": {
      "text/plain": [
       "array([2.96896696, 2.51606543, 3.01366054, 3.75646935, 3.95609673,\n",
       "       2.64780812, 2.70679736, 4.03786834, 2.63607472, 4.9358331 ,\n",
       "       3.57396962, 4.14528458, 3.99154354, 3.03080982, 4.8947926 ,\n",
       "       1.86426313, 3.60067441, 3.26286533, 3.57024265, 4.93762944,\n",
       "       2.34602368, 2.41322935, 2.128029  , 3.40032048, 3.72949897,\n",
       "       3.57518513, 1.61798398, 4.57188221, 3.2383261 , 3.93567088,\n",
       "       2.91139616, 3.41110947, 2.46055181, 3.59234222, 4.67290557,\n",
       "       3.35923761, 3.66951463, 1.74048181, 4.50186121, 3.0456635 ,\n",
       "       2.67492085, 1.60900933, 2.38694382, 6.02755228, 0.84751338,\n",
       "       3.21252084, 1.61075011, 3.60816277, 1.21497376, 2.10231659,\n",
       "       2.18587247, 2.90118681, 2.11661141, 3.08699641, 3.37427802,\n",
       "       1.49264381, 5.80752209, 2.96519096, 3.31095068, 4.48452149,\n",
       "       2.98102429, 3.45861784, 2.55888954, 2.9522986 , 2.78805076,\n",
       "       1.90036201, 2.93668966, 3.00117037, 3.18591246, 3.22571271,\n",
       "       5.29291094, 2.3233959 , 1.52259588, 1.73003266, 3.22413462,\n",
       "       2.88348561, 2.619776  , 0.51936428, 0.36885477, 3.31239782,\n",
       "       3.22438805, 2.43358798, 2.93712328, 3.08860862, 2.53180671,\n",
       "       3.17919542, 3.43052664, 3.28160439, 2.77772565, 4.51955772,\n",
       "       1.79171735, 2.37929155, 3.44570496, 2.07133062, 3.92554884,\n",
       "       4.824669  , 5.52124655, 1.70598143, 3.0159245 , 3.2786441 ])"
      ]
     },
     "execution_count": 75,
     "metadata": {},
     "output_type": "execute_result"
    }
   ],
   "source": [
    "x = numpy.random.normal(3, 1, 100)\n",
    "x"
   ]
  },
  {
   "cell_type": "code",
   "execution_count": 80,
   "metadata": {},
   "outputs": [],
   "source": [
    "y = numpy.random.normal(150, 40, 100)/x"
   ]
  },
  {
   "cell_type": "code",
   "execution_count": 81,
   "metadata": {},
   "outputs": [
    {
     "data": {
      "text/plain": [
       "array([ 52.68152967,  52.15396083,  39.90967332,  47.66915778,\n",
       "        42.19830567,  93.41193194,  62.98821658,  38.57243707,\n",
       "        75.60833817,  40.31297189,  36.42336282,  50.23368505,\n",
       "        35.24064714,  43.30963954,  18.09884512,  60.15562623,\n",
       "        47.2220364 ,  34.90115222,  50.18543075,   7.66220527,\n",
       "        51.29603528,  63.43477079,  58.34832416,  37.6266315 ,\n",
       "        33.39828513,  34.26954291, 101.97979799,  23.78797425,\n",
       "        61.82777509,  49.97153103,  65.5932931 ,  44.09118269,\n",
       "        37.64961674,  44.72222771,  26.42187954,  30.88290598,\n",
       "        30.70719039,  40.55177061,  24.74475294,  46.37884364,\n",
       "        62.76050668, 106.51965071,  80.9791834 ,  20.01249836,\n",
       "       168.22750912,  30.35521359,  79.81007749,  36.54807309,\n",
       "       154.40508621,  52.67929217,  86.08474438,  49.18616228,\n",
       "       104.05072067,  52.9937901 ,  56.07413827, 106.05593044,\n",
       "        26.18398982,  15.16144608,  22.85583193,  49.81749155,\n",
       "        46.89816561,  36.66585341,  23.69131023,  44.3303495 ,\n",
       "        44.57044502, 110.07218797,  53.11402954,  53.81976678,\n",
       "        74.05064152,  49.09168095,   5.69828285,  69.96988797,\n",
       "        98.66295824,  78.22834414,  56.59260417,  45.29501564,\n",
       "        17.8457168 , 275.27386615, 361.56477387,  36.27675157,\n",
       "        33.62735753,  48.31161367,  49.88062138,  42.10875243,\n",
       "        55.15002327,  51.73046388,  42.42304952,  45.54001506,\n",
       "        66.67443016,  36.81442141,  56.45881523,  86.87707667,\n",
       "        47.99196275,  71.15935516,  44.27384726,  38.15030318,\n",
       "        23.54947088,  99.35752461,  29.36686571,  35.8443787 ])"
      ]
     },
     "execution_count": 81,
     "metadata": {},
     "output_type": "execute_result"
    }
   ],
   "source": [
    "y"
   ]
  },
  {
   "cell_type": "code",
   "execution_count": 82,
   "metadata": {},
   "outputs": [],
   "source": [
    "import matplotlib.pyplot as plt"
   ]
  },
  {
   "cell_type": "code",
   "execution_count": 83,
   "metadata": {},
   "outputs": [
    {
     "data": {
      "text/plain": [
       "<matplotlib.collections.PathCollection at 0x2ce2ca6a130>"
      ]
     },
     "execution_count": 83,
     "metadata": {},
     "output_type": "execute_result"
    },
    {
     "data": {
      "image/png": "[encoded data removed]",
      "text/plain": [
       "<Figure size 432x288 with 1 Axes>"
      ]
     },
     "metadata": {
      "needs_background": "light"
     },
     "output_type": "display_data"
    }
   ],
   "source": [
    "plt.scatter(x,y)"
   ]
  },
  {
   "cell_type": "code",
   "execution_count": 92,
   "metadata": {},
   "outputs": [],
   "source": [
    "train_x = x[:80]\n",
    "train_y = y[:80]\n",
    "\n",
    "test_x = x[80:]\n",
    "test_y = y[80:]"
   ]
  },
  {
   "cell_type": "code",
   "execution_count": 112,
   "metadata": {},
   "outputs": [],
   "source": [
    "mymodel = numpy.poly1d(numpy.polyfit(train_x, train_y, 3))\n",
    "\n",
    "myline = numpy.linspace(0, 6, 100)"
   ]
  },
  {
   "cell_type": "code",
   "execution_count": 113,
   "metadata": {},
   "outputs": [
    {
     "data": {
      "text/plain": [
       "poly1d([  -6.22155822,   73.08670639, -282.0602151 ,  398.66414356])"
      ]
     },
     "execution_count": 113,
     "metadata": {},
     "output_type": "execute_result"
    }
   ],
   "source": [
    "mymodel"
   ]
  },
  {
   "cell_type": "code",
   "execution_count": null,
   "metadata": {},
   "outputs": [],
   "source": []
  },
  {
   "cell_type": "code",
   "execution_count": 114,
   "metadata": {},
   "outputs": [
    {
     "data": {
      "text/plain": [
       "<matplotlib.collections.PathCollection at 0x2ce2d0ef100>"
      ]
     },
     "execution_count": 114,
     "metadata": {},
     "output_type": "execute_result"
    },
    {
     "data": {
      "image/png": "[encoded data removed]",
      "text/plain": [
       "<Figure size 432x288 with 1 Axes>"
      ]
     },
     "metadata": {
      "needs_background": "light"
     },
     "output_type": "display_data"
    }
   ],
   "source": [
    "plt.scatter(train_x, train_y)"
   ]
  },
  {
   "cell_type": "code",
   "execution_count": null,
   "metadata": {},
   "outputs": [],
   "source": []
  },
  {
   "cell_type": "code",
   "execution_count": 110,
   "metadata": {},
   "outputs": [
    {
     "data": {
      "text/plain": [
       "[<matplotlib.lines.Line2D at 0x2ce2d092490>]"
      ]
     },
     "execution_count": 110,
     "metadata": {},
     "output_type": "execute_result"
    },
    {
     "data": {
      "image/png": "[encoded data removed]",
      "text/plain": [
       "<Figure size 432x288 with 1 Axes>"
      ]
     },
     "metadata": {
      "needs_background": "light"
     },
     "output_type": "display_data"
    }
   ],
   "source": [
    "plt.plot(myline, mymodel(myline))"
   ]
  },
  {
   "cell_type": "code",
   "execution_count": 118,
   "metadata": {},
   "outputs": [],
   "source": [
    "from sklearn.metrics import r2_score"
   ]
  },
  {
   "cell_type": "code",
   "execution_count": 119,
   "metadata": {},
   "outputs": [
    {
     "name": "stdout",
     "output_type": "stream",
     "text": [
      "0.8629337918468759\n"
     ]
    }
   ],
   "source": [
    "r2 = r2_score(train_y, mymodel(train_x))\n",
    "print(r2)"
   ]
  },
  {
   "cell_type": "code",
   "execution_count": 124,
   "metadata": {},
   "outputs": [
    {
     "data": {
      "text/plain": [
       "42.28178379018914"
      ]
     },
     "execution_count": 124,
     "metadata": {},
     "output_type": "execute_result"
    }
   ],
   "source": [
    "mymodel(3)"
   ]
  },
  {
   "cell_type": "code",
   "execution_count": null,
   "metadata": {},
   "outputs": [],
   "source": []
  }
 ],
 "metadata": {
  "kernelspec": {
   "display_name": "Python 3",
   "language": "python",
   "name": "python3"
  },
  "language_info": {
   "codemirror_mode": {
    "name": "ipython",
    "version": 3
   },
   "file_extension": ".py",
   "mimetype": "text/x-python",
   "name": "python",
   "nbconvert_exporter": "python",
   "pygments_lexer": "ipython3",
   "version": "3.8.5"
  }
 },
 "nbformat": 4,
 "nbformat_minor": 4
}
